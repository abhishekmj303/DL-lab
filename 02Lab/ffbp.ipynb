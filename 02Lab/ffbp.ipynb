{
 "cells": [
  {
   "cell_type": "code",
   "execution_count": 1,
   "id": "initial_id",
   "metadata": {
    "collapsed": true,
    "ExecuteTime": {
     "end_time": "2024-02-17T17:19:24.874527221Z",
     "start_time": "2024-02-17T17:19:24.821037943Z"
    }
   },
   "outputs": [],
   "source": [
    "import numpy as np"
   ]
  },
  {
   "cell_type": "code",
   "outputs": [
    {
     "name": "stdout",
     "output_type": "stream",
     "text": [
      "[0.7 1.2] [1 0]\n"
     ]
    }
   ],
   "source": [
    "X = np.array([0.7, 1.2])\n",
    "y = np.array([1, 0])\n",
    "print(X, y)"
   ],
   "metadata": {
    "collapsed": false,
    "ExecuteTime": {
     "end_time": "2024-02-17T17:19:24.877471629Z",
     "start_time": "2024-02-17T17:19:24.874893163Z"
    }
   },
   "id": "20a9ef5b400ffb46",
   "execution_count": 2
  },
  {
   "cell_type": "markdown",
   "source": [
    "# Initialize the weights and biases"
   ],
   "metadata": {
    "collapsed": false
   },
   "id": "d4b8f569571ffb73"
  },
  {
   "cell_type": "code",
   "outputs": [],
   "source": [
    "W0 = np.array([[1.5, 0.8], [0.2, -1.6]])\n",
    "b0 = np.array([0.5, 0.8])\n",
    "W1 = np.array([[-1.7, 1.6], [2.1, -0.2]])\n",
    "b1 = np.array([0.9, 1.2])\n",
    "parameters = {'W0': W0, 'b0': b0, 'W1': W1, 'b1': b1}"
   ],
   "metadata": {
    "collapsed": false,
    "ExecuteTime": {
     "end_time": "2024-02-17T17:19:24.914368060Z",
     "start_time": "2024-02-17T17:19:24.875094494Z"
    }
   },
   "id": "4042b6122c2d1561",
   "execution_count": 3
  },
  {
   "cell_type": "markdown",
   "source": [
    "# Forward propogation"
   ],
   "metadata": {
    "collapsed": false
   },
   "id": "7b31156b2441e37a"
  },
  {
   "cell_type": "code",
   "outputs": [],
   "source": [
    "def sigmoid(x):\n",
    "    return 1 / (1 + np.exp(-x))"
   ],
   "metadata": {
    "collapsed": false,
    "ExecuteTime": {
     "end_time": "2024-02-17T17:19:24.933083651Z",
     "start_time": "2024-02-17T17:19:24.887189776Z"
    }
   },
   "id": "1926545a9ce48455",
   "execution_count": 4
  },
  {
   "cell_type": "code",
   "outputs": [],
   "source": [
    "def forward_propogation(X, parameters):\n",
    "    layers = len(parameters) // 2\n",
    "    cache = {}\n",
    "    A = X\n",
    "    for l in range(layers):\n",
    "        W = parameters['W' + str(l)]\n",
    "        b = parameters['b' + str(l)]\n",
    "        Z = np.dot(W, A) + b\n",
    "        A = sigmoid(Z)\n",
    "        cache['Z' + str(l)] = Z\n",
    "        cache['A' + str(l)] = A\n",
    "    y_hat = np.array([1 if o > 0.5 else 0 for o in A])\n",
    "    return y_hat, cache"
   ],
   "metadata": {
    "collapsed": false,
    "ExecuteTime": {
     "end_time": "2024-02-17T17:19:24.933750873Z",
     "start_time": "2024-02-17T17:19:24.917275398Z"
    }
   },
   "id": "bf2acc4a081666bc",
   "execution_count": 5
  },
  {
   "cell_type": "markdown",
   "source": [
    "# Loss function"
   ],
   "metadata": {
    "collapsed": false
   },
   "id": "f5679225b002403"
  },
  {
   "cell_type": "code",
   "outputs": [],
   "source": [
    "def loss(y, y_hat):\n",
    "    return np.sum((y - y_hat) ** 2)"
   ],
   "metadata": {
    "collapsed": false,
    "ExecuteTime": {
     "end_time": "2024-02-17T17:19:24.934274563Z",
     "start_time": "2024-02-17T17:19:24.917408980Z"
    }
   },
   "id": "ccffdd8990bddf79",
   "execution_count": 6
  },
  {
   "cell_type": "markdown",
   "source": [
    "# Backpropogation"
   ],
   "metadata": {
    "collapsed": false
   },
   "id": "56509985db0f5dba"
  },
  {
   "cell_type": "code",
   "outputs": [],
   "source": [
    "def loss_gradient(y, y_hat):\n",
    "    return 2 * (y - y_hat)"
   ],
   "metadata": {
    "collapsed": false,
    "ExecuteTime": {
     "end_time": "2024-02-17T17:19:24.950120167Z",
     "start_time": "2024-02-17T17:19:24.917470346Z"
    }
   },
   "id": "837a2fae0d4e9b7e",
   "execution_count": 7
  },
  {
   "cell_type": "code",
   "outputs": [],
   "source": [
    "def sigmoid_gradient(x):\n",
    "    return sigmoid(x) * (1 - sigmoid(x))"
   ],
   "metadata": {
    "collapsed": false,
    "ExecuteTime": {
     "end_time": "2024-02-17T17:19:24.951326037Z",
     "start_time": "2024-02-17T17:19:24.933479560Z"
    }
   },
   "id": "a277043c276286f1",
   "execution_count": 8
  },
  {
   "cell_type": "code",
   "outputs": [],
   "source": [
    "def backpropogation(parameters, cache, y):\n",
    "    layers = len(parameters) // 2\n",
    "    grads = {}\n",
    "    A = cache['A' + str(layers - 1)]\n",
    "    dA = loss_gradient(y, A)\n",
    "    for l in range(layers-1, -1, -1):\n",
    "        Z = cache['Z' + str(l)]\n",
    "        W = parameters['W' + str(l)]\n",
    "        dZ = dA * sigmoid_gradient(Z)\n",
    "        dW = np.dot(dZ, cache['A' + str(l)].T)\n",
    "        db = dZ\n",
    "        dA = np.dot(W.T, dZ)\n",
    "        grads['dW' + str(l)] = dW\n",
    "        grads['db' + str(l)] = db\n",
    "    return grads"
   ],
   "metadata": {
    "collapsed": false,
    "ExecuteTime": {
     "end_time": "2024-02-17T17:19:24.987647581Z",
     "start_time": "2024-02-17T17:19:24.933602542Z"
    }
   },
   "id": "3bad1167ddd910f1",
   "execution_count": 9
  },
  {
   "cell_type": "markdown",
   "source": [
    "# Update parameters"
   ],
   "metadata": {
    "collapsed": false
   },
   "id": "646dedcbb08da740"
  },
  {
   "cell_type": "code",
   "outputs": [],
   "source": [
    "def update_parameters(parameters, grads, learning_rate):\n",
    "    layers = len(parameters) // 2\n",
    "    for l in range(layers):\n",
    "        parameters['W' + str(l)] += learning_rate * grads['dW' + str(l)]\n",
    "        parameters['b' + str(l)] += learning_rate * grads['db' + str(l)]\n",
    "    return parameters"
   ],
   "metadata": {
    "collapsed": false,
    "ExecuteTime": {
     "end_time": "2024-02-17T17:19:25.001492422Z",
     "start_time": "2024-02-17T17:19:24.939697738Z"
    }
   },
   "id": "f76afcf5831fea5f",
   "execution_count": 10
  },
  {
   "cell_type": "markdown",
   "source": [
    "# Multi Layer Perceptron"
   ],
   "metadata": {
    "collapsed": false
   },
   "id": "987d998314bb53a7"
  },
  {
   "cell_type": "code",
   "outputs": [
    {
     "name": "stdout",
     "output_type": "stream",
     "text": [
      "Epoch: 1 Loss: 2\n",
      "Parameters: {'W0': array([[ 1.4932176,  0.7932176],\n",
      "       [ 0.1932176, -1.6067824]]), 'b0': array([0.48143559, 0.83806163]), 'W1': array([[-1.68098731,  1.61901269],\n",
      "       [ 2.11901269, -0.18098731]]), 'b1': array([1.01569916, 1.16648445])}\n",
      "Epoch: 2 Loss: 2\n",
      "Parameters: {'W0': array([[ 1.48658442,  0.78658442],\n",
      "       [ 0.18658442, -1.61341558]]), 'b0': array([0.46317969, 0.87479998]), 'W1': array([[-1.66116607,  1.63883393],\n",
      "       [ 2.13883393, -0.16116607]]), 'b1': array([1.12497445, 1.13248987])}\n",
      "Epoch: 3 Loss: 1\n",
      "Parameters: {'W0': array([[ 1.48009693,  0.78009693],\n",
      "       [ 0.18009693, -1.61990307]]), 'b0': array([0.4453901 , 0.90975909]), 'W1': array([[-1.64167039,  1.65832961],\n",
      "       [ 2.15832961, -0.14167039]]), 'b1': array([1.22676222, 1.09802821])}\n",
      "Epoch: 4 Loss: 1\n",
      "Parameters: {'W0': array([[ 1.47371377,  0.77371377],\n",
      "       [ 0.17371377, -1.62628623]]), 'b0': array([0.42814499, 0.94264237]), 'W1': array([[-1.62352671,  1.67647329],\n",
      "       [ 2.17647329, -0.12352671]]), 'b1': array([1.32059788, 1.06307231])}\n",
      "Epoch: 5 Loss: 1\n",
      "Parameters: {'W0': array([[ 1.46736605,  0.76736605],\n",
      "       [ 0.16736605, -1.63263395]]), 'b0': array([0.41144549, 0.97332028]), 'W1': array([[-1.60754167,  1.69245833],\n",
      "       [ 2.19245833, -0.10754167]]), 'b1': array([1.40655454, 1.02755551])}\n",
      "Epoch: 6 Loss: 1\n",
      "Parameters: {'W0': array([[ 1.46096982,  0.76096982],\n",
      "       [ 0.16096982, -1.63903018]]), 'b0': array([0.39523167, 1.00180502]), 'W1': array([[-1.59426894,  1.70573106],\n",
      "       [ 2.20573106, -0.09426894]]), 'b1': array([1.4850966, 0.9913753])}\n",
      "Epoch: 7 Loss: 1\n",
      "Parameters: {'W0': array([[ 1.45443635,  0.75443635],\n",
      "       [ 0.15443635, -1.64556365]]), 'b0': array([0.37940271, 1.02820944]), 'W1': array([[-1.58403808,  1.71596192],\n",
      "       [ 2.21596192, -0.08403808]]), 'b1': array([1.55691608, 0.95439856])}\n",
      "Epoch: 8 Loss: 1\n",
      "Parameters: {'W0': array([[ 1.44767807,  0.74767807],\n",
      "       [ 0.14767807, -1.65232193]]), 'b0': array([0.36383431, 1.05270637]), 'W1': array([[-1.57701291,  1.72298709],\n",
      "       [ 2.22298709, -0.07701291]]), 'b1': array([1.62279748, 0.91646604])}\n",
      "Epoch: 9 Loss: 1\n",
      "Parameters: {'W0': array([[ 1.44061072,  0.74061072],\n",
      "       [ 0.14061072, -1.65938928]]), 'b0': array([0.34839056, 1.07549671]), 'W1': array([[-1.57325277,  1.72674723],\n",
      "       [ 2.22674723, -0.07325277]]), 'b1': array([1.68352679, 0.87739519])}\n",
      "Epoch: 10 Loss: 1\n",
      "Parameters: {'W0': array([[ 1.43315279,  0.73315279],\n",
      "       [ 0.13315279, -1.66684721]]), 'b0': array([0.33293034, 1.09678833]), 'W1': array([[-1.57276329,  1.72723671],\n",
      "       [ 2.22723671, -0.07276329]]), 'b1': array([1.73984053, 0.83698074])}\n",
      "Epoch: 11 Loss: 1\n",
      "Parameters: {'W0': array([[ 1.4252236,  0.7252236],\n",
      "       [ 0.1252236, -1.6747764]]), 'b0': array([0.3173096, 1.1167841]), 'W1': array([[-1.57553341,  1.72446659],\n",
      "       [ 2.22446659, -0.07553341]]), 'b1': array([1.79240326, 0.79499328])}\n",
      "Epoch: 12 Loss: 1\n",
      "Parameters: {'W0': array([[ 1.41674061,  0.71674061],\n",
      "       [ 0.11674061, -1.68325939]]), 'b0': array([0.30138074, 1.13567634]), 'W1': array([[-1.58156024,  1.71843976],\n",
      "       [ 2.21843976, -0.08156024]]), 'b1': array([1.84180253, 0.75117611])}\n",
      "Epoch: 13 Loss: 1\n",
      "Parameters: {'W0': array([[ 1.4076165,  0.7076165],\n",
      "       [ 0.1076165, -1.6923835]]), 'b0': array([0.2849902 , 1.15364562]), 'W1': array([[-1.59086506,  1.70913494],\n",
      "       [ 2.20913494, -0.09086506]]), 'b1': array([1.88855307, 0.70524056])}\n",
      "Epoch: 14 Loss: 1\n",
      "Parameters: {'W0': array([[ 1.39775605,  0.69775605],\n",
      "       [ 0.09775605, -1.70224395]]), 'b0': array([0.26797479, 1.17086195]), 'W1': array([[-1.60350333,  1.69649667],\n",
      "       [ 2.19649667, -0.10350333]]), 'b1': array([1.93310524, 0.65685998])}\n",
      "Epoch: 15 Loss: 1\n",
      "Parameters: {'W0': array([[ 1.38705294,  0.68705294],\n",
      "       [ 0.08705294, -1.71294706]]), 'b0': array([0.25015716, 1.18748758]), 'W1': array([[-1.61957083,  1.68042917],\n",
      "       [ 2.18042917, -0.11957083]]), 'b1': array([1.97585467, 0.60566252])}\n",
      "Epoch: 16 Loss: 1\n",
      "Parameters: {'W0': array([[ 1.37538647,  0.67538647],\n",
      "       [ 0.07538647, -1.72461353]]), 'b0': array([0.23134049, 1.20368062]), 'W1': array([[-1.63920674,  1.66079326],\n",
      "       [ 2.16079326, -0.13920674]]), 'b1': array([2.01715164, 0.55122312])}\n",
      "Epoch: 17 Loss: 1\n",
      "Parameters: {'W0': array([[ 1.36261821,  0.66261821],\n",
      "       [ 0.06261821, -1.73738179]]), 'b0': array([0.21130253, 1.21959924]), 'W1': array([[-1.66259401,  1.63740599],\n",
      "       [ 2.13740599, -0.16259401]]), 'b1': array([2.05730939, 0.49305508])}\n",
      "Epoch: 18 Loss: 1\n",
      "Parameters: {'W0': array([[ 1.34858882,  0.64858882],\n",
      "       [ 0.04858882, -1.75141118]]), 'b0': array([0.18978917, 1.23540625]), 'W1': array([[-1.68995559,  1.61004441],\n",
      "       [ 2.11004441, -0.18995559]]), 'b1': array([2.09661097, 0.43060258])}\n",
      "Epoch: 19 Loss: 1\n",
      "Parameters: {'W0': array([[ 1.3331156,  0.6331156],\n",
      "       [ 0.0331156, -1.7668844]]), 'b0': array([0.16650817, 1.25127379]), 'W1': array([[-1.72154396,  1.57845604],\n",
      "       [ 2.07845604, -0.22154396]]), 'b1': array([2.13531426, 0.36323636])}\n",
      "Epoch: 20 Loss: 1\n",
      "Parameters: {'W0': array([[ 1.31599182,  0.61599182],\n",
      "       [ 0.01599182, -1.78400818]]), 'b0': array([0.14112422, 1.26738759]), 'W1': array([[-1.7576191,  1.5423809],\n",
      "       [ 2.0423809, -0.2576191]]), 'b1': array([2.17365463, 0.29025735])}\n",
      "Epoch: 21 Loss: 1\n",
      "Parameters: {'W0': array([[ 1.29699005,  0.59699005],\n",
      "       [-0.00300995, -1.80300995]]), 'b0': array([0.11325783, 1.28394971]), 'W1': array([[-1.7984072,  1.5015928],\n",
      "       [ 2.0015928, -0.2984072]]), 'b1': array([2.21184462, 0.21091609])}\n",
      "Epoch: 22 Loss: 1\n",
      "Parameters: {'W0': array([[ 1.27587284,  0.57587284],\n",
      "       [-0.02412716, -1.82412716]]), 'b0': array([0.08249292, 1.30117744]), 'W1': array([[-1.84402897,  1.45597103],\n",
      "       [ 1.95597103, -0.34402897]]), 'b1': array([2.25006922, 0.12446146])}\n",
      "Epoch: 23 Loss: 1\n",
      "Parameters: {'W0': array([[ 1.25241652,  0.55241652],\n",
      "       [-0.04758348, -1.84758348]]), 'b0': array([0.04840107, 1.31929421]), 'W1': array([[-1.89438523,  1.40561477],\n",
      "       [ 1.90561477, -0.39438523]]), 'b1': array([2.2884752 , 0.03023851])}\n",
      "Epoch: 24 Loss: 1\n",
      "Parameters: {'W0': array([[ 1.22645496,  0.52645496],\n",
      "       [-0.07354504, -1.87354504]]), 'b0': array([0.01059368, 1.33850611]), 'W1': array([[-1.9489933,  1.3510067],\n",
      "       [ 1.8510067, -0.4489933]]), 'b1': array([ 2.32715251, -0.07214135])}\n",
      "Epoch: 25 Loss: 1\n",
      "Parameters: {'W0': array([[ 1.19794866,  0.49794866],\n",
      "       [-0.10205134, -1.90205134]]), 'b0': array([-0.03118627,  1.35895665]), 'W1': array([[-2.0067926,  1.2932074],\n",
      "       [ 1.7932074, -0.5067926]]), 'b1': array([ 2.36610688, -0.18254506])}\n",
      "Epoch: 26 Loss: 1\n",
      "Parameters: {'W0': array([[ 1.16707424,  0.46707424],\n",
      "       [-0.13292576, -1.93292576]]), 'b0': array([-0.07693239,  1.38065802]), 'W1': array([[-2.06599264,  1.23400736],\n",
      "       [ 1.73400736, -0.56599264]]), 'b1': array([ 2.4052265 , -0.30000871])}\n",
      "Epoch: 27 Loss: 1\n",
      "Parameters: {'W0': array([[ 1.1343062,  0.4343062],\n",
      "       [-0.1656938, -1.9656938]]), 'b0': array([-0.12623323,  1.40341459]), 'W1': array([[-2.12410678,  1.17589322],\n",
      "       [ 1.67589322, -0.62410678]]), 'b1': array([ 2.44425298, -0.42249604])}\n",
      "Epoch: 28 Loss: 1\n",
      "Parameters: {'W0': array([[ 1.10043593,  0.40043593],\n",
      "       [-0.19956407, -1.99956407]]), 'b0': array([-0.17819621,  1.42678292]), 'W1': array([[-2.17831908,  1.12168092],\n",
      "       [ 1.62168092, -0.67831908]]), 'b1': array([ 2.4827769 , -0.54693652])}\n",
      "Epoch: 29 Loss: 1\n",
      "Parameters: {'W0': array([[ 1.06647573,  0.36647573],\n",
      "       [-0.23352427, -2.03352427]]), 'b0': array([-0.23152483,  1.45012245]), 'W1': array([[-2.22615468,  1.07384532],\n",
      "       [ 1.57384532, -0.72615468]]), 'b1': array([ 2.52027973, -0.66970489])}\n",
      "Epoch: 30 Loss: 1\n",
      "Parameters: {'W0': array([[ 1.03345947,  0.33345947],\n",
      "       [-0.26654053, -2.06654053]]), 'b0': array([-0.28476264,  1.47274382]), 'W1': array([[-2.26612706,  1.03387294],\n",
      "       [ 1.53387294, -0.76612706]]), 'b1': array([ 2.55622491, -0.7874192 ])}\n",
      "Epoch: 31 Loss: 1\n",
      "Parameters: {'W0': array([[ 1.00223378,  0.30223378],\n",
      "       [-0.29776622, -2.09776622]]), 'b0': array([-0.33659274,  1.49408015]), 'W1': array([[-2.29796587,  1.00203413],\n",
      "       [ 1.50203413, -0.79796587]]), 'b1': array([ 2.59016572, -0.89763893])}\n"
     ]
    }
   ],
   "source": [
    "epochs = 1000\n",
    "learning_rate = 0.42\n",
    "epoch = 0\n",
    "while epoch < epochs:\n",
    "    epoch += 1\n",
    "    y_hat, cache = forward_propogation(X, parameters)\n",
    "    l = loss(y, y_hat)\n",
    "    if l == 0:\n",
    "        break\n",
    "    grads = backpropogation(parameters, cache, y)\n",
    "    parameters = update_parameters(parameters, grads, learning_rate)\n",
    "    print('Epoch:', epoch, 'Loss:', l)\n",
    "    print('Parameters:', parameters)"
   ],
   "metadata": {
    "collapsed": false,
    "ExecuteTime": {
     "end_time": "2024-02-17T17:19:25.002312503Z",
     "start_time": "2024-02-17T17:19:24.976721139Z"
    }
   },
   "id": "24b7c0ee96615532",
   "execution_count": 11
  },
  {
   "cell_type": "code",
   "outputs": [
    {
     "name": "stdout",
     "output_type": "stream",
     "text": [
      "Converged after 32 epochs\n",
      "Final parameters:\n",
      "{'W0': array([[ 1.00223378,  0.30223378],\n",
      "       [-0.29776622, -2.09776622]]), 'b0': array([-0.33659274,  1.49408015]), 'W1': array([[-2.29796587,  1.00203413],\n",
      "       [ 1.50203413, -0.79796587]]), 'b1': array([ 2.59016572, -0.89763893])}\n"
     ]
    }
   ],
   "source": [
    "print(f\"Converged after {epoch} epochs\")\n",
    "print(\"Final parameters:\")\n",
    "print(parameters)"
   ],
   "metadata": {
    "collapsed": false,
    "ExecuteTime": {
     "end_time": "2024-02-17T17:19:25.002897519Z",
     "start_time": "2024-02-17T17:19:24.977018782Z"
    }
   },
   "id": "3d6ce3118a6c6026",
   "execution_count": 12
  },
  {
   "cell_type": "code",
   "outputs": [],
   "source": [],
   "metadata": {
    "collapsed": false,
    "ExecuteTime": {
     "end_time": "2024-02-17T17:19:25.052145398Z",
     "start_time": "2024-02-17T17:19:25.016984688Z"
    }
   },
   "id": "9263a202e269c44d",
   "execution_count": 12
  }
 ],
 "metadata": {
  "kernelspec": {
   "display_name": "Python 3",
   "language": "python",
   "name": "python3"
  },
  "language_info": {
   "codemirror_mode": {
    "name": "ipython",
    "version": 2
   },
   "file_extension": ".py",
   "mimetype": "text/x-python",
   "name": "python",
   "nbconvert_exporter": "python",
   "pygments_lexer": "ipython2",
   "version": "2.7.6"
  }
 },
 "nbformat": 4,
 "nbformat_minor": 5
}
